{
 "cells": [
  {
   "cell_type": "code",
   "execution_count": 1,
   "metadata": {},
   "outputs": [
    {
     "name": "stdout",
     "output_type": "stream",
     "text": [
      "Required argument:  1\n",
      "<class 'type'>\n",
      "Optional argument:  2\n",
      "Optional argument:  3\n",
      "Optional argument:  4\n"
     ]
    }
   ],
   "source": [
    "# *args **kwargs \n",
    "# args: arguments,位置参数\n",
    "# kwargs 是 keyword arguments 的缩写 关键字参数\n",
    "# *args 必须放在 **kwargs 的前面，因为位置参数在关键字参数的前面\n",
    "# *args 用法 \n",
    "# \n",
    "def test_args(first,*args):\n",
    "    # 第一个参数是必须要传入的参数，所以使用了第一个形参，\n",
    "    # 后面三个参数则作为可变参数列表传入了实参，并且是作为元组tuple来使用的\n",
    "    print('Required argument: ', first)\n",
    "    print(type(type(args)))\n",
    "    for v in args:\n",
    "        print('Optional argument: ',v)\n",
    "\n",
    "test_args(1,2,3,4)"
   ]
  },
  {
   "cell_type": "code",
   "execution_count": 2,
   "metadata": {},
   "outputs": [
    {
     "name": "stdout",
     "output_type": "stream",
     "text": [
      "Required argument:  1\n",
      "<class 'dict'>\n",
      "Optional argument (args):  2\n",
      "Optional argument (args):  3\n",
      "Optional argument (args):  4\n",
      "Optional argument (args):  5\n",
      "Optional argument k1 (kwargs): 6\n",
      "Optional argument k2 (kwargs): 6\n"
     ]
    }
   ],
   "source": [
    "# **kargs\n",
    "def test_kwargs(first,*args,**kwargs):\n",
    "    \"\"\"\n",
    "    将一个可变的关键字参数的字典传给函数实参，同样参数列表长度可以为0或为其他值\n",
    "    \"\"\"\n",
    "    print('Required argument: ', first)\n",
    "    print(type(kwargs))\n",
    "    for v in args:\n",
    "        print('Optional argument (args): ', v)\n",
    "    for k,v in kwargs.items():\n",
    "        print ('Optional argument %s (kwargs): %s' % (k, v))\n",
    "\n",
    "test_kwargs(1,2,3,4,5,k1=6,k2=6)"
   ]
  },
  {
   "cell_type": "code",
   "execution_count": 4,
   "metadata": {},
   "outputs": [
    {
     "name": "stdout",
     "output_type": "stream",
     "text": [
      "arg1: two\n",
      "arg2: 3\n",
      "arg3: 5\n"
     ]
    }
   ],
   "source": [
    "# 调用函数\n",
    "# 调用时使用就相当于pack（打包）和unpack（解包），类似于元组的打包和解包。\n",
    "def test_args_kwargs(arg1, arg2, arg3):\n",
    "    print(\"arg1:\", arg1)\n",
    "    print(\"arg2:\", arg2)\n",
    "    print(\"arg3:\", arg3)\n",
    "\n",
    "args = (\"two\", 3, 5)\n",
    "test_args_kwargs(*args)"
   ]
  },
  {
   "cell_type": "code",
   "execution_count": 6,
   "metadata": {},
   "outputs": [
    {
     "name": "stdout",
     "output_type": "stream",
     "text": [
      "arg1: 5\n",
      "arg2: two\n",
      "arg3: 3\n"
     ]
    }
   ],
   "source": [
    "kwargs = {\"arg3\": 3, \"arg2\": \"two\", \"arg1\": 5}\n",
    "test_args_kwargs(**kwargs)\n"
   ]
  },
  {
   "cell_type": "code",
   "execution_count": null,
   "metadata": {},
   "outputs": [],
   "source": []
  }
 ],
 "metadata": {
  "interpreter": {
   "hash": "7f33bdbef95df1ffb17e454f6b7caaab80b8803f63077218d0eb8c6a0e14e8bd"
  },
  "kernelspec": {
   "display_name": "Python 3.8.13 ('fastapi_env')",
   "language": "python",
   "name": "python3"
  },
  "language_info": {
   "codemirror_mode": {
    "name": "ipython",
    "version": 3
   },
   "file_extension": ".py",
   "mimetype": "text/x-python",
   "name": "python",
   "nbconvert_exporter": "python",
   "pygments_lexer": "ipython3",
   "version": "3.8.13"
  },
  "orig_nbformat": 4
 },
 "nbformat": 4,
 "nbformat_minor": 2
}
