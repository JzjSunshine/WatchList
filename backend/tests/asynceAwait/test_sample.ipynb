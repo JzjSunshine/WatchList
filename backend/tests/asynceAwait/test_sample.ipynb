{
 "cells": [
  {
   "cell_type": "markdown",
   "metadata": {},
   "source": [
    "正常的函数在执行时是不会中断的，所以你要写一个能够中断的函数，就需要添加async关键。\n",
    "\n",
    "async 用来声明一个函数为异步函数，异步函数的特点是能在函数执行过程中挂起，去执行其他异步函数，等到挂起条件（假设挂起条件是sleep(5)）消失后，也就是5秒到了再回来执行。\n",
    "\n",
    "await 用来用来声明程序挂起，比如异步程序执行到某一步时需要等待的时间很长，就将此挂起，去执行其他的异步程序。await 后面只能跟异步程序或有__await__属性的对象，因为异步程序与一般程序不同。假设有两个异步函数async a，async b，a中的某一步有await，当程序碰到关键字await b()后，异步程序挂起后去执行另一个异步b程序，就是从函数内部跳出去执行其他函数，**当挂起条件消失后，不管b是否执行完，要马上从b程序中跳出来，回到原程序执行原来的操作**。\n",
    "\n",
    "如果await后面跟的b函数不是异步函数，那么操作就只能等b执行完再返回，无法在b执行的过程中返回。如果要在b执行完才返回，也就不需要用await关键字了，直接调用b函数就行。所以这就需要await后面跟的是异步函数了。在一个异步函数中，可以不止一次挂起，也就是可以用多个await。"
   ]
  },
  {
   "cell_type": "code",
   "execution_count": 1,
   "metadata": {},
   "outputs": [],
   "source": [
    "import types\n",
    "\n",
    "def function():\n",
    "    \"\"\"普通函数\"\"\"\n",
    "    return 1\n",
    "\n",
    "def generator():\n",
    "    \"\"\"生成器函数\"\"\"\n",
    "    yield 1\n",
    "\n",
    "async def async_function():\n",
    "    \"\"\"异步函数（协程）\"\"\"\n",
    "    return 1\n",
    "\n",
    "async def async_generator():\n",
    "    \"\"\"异步生成器\"\"\"\n",
    "    yield 1\n"
   ]
  },
  {
   "cell_type": "code",
   "execution_count": 2,
   "metadata": {},
   "outputs": [
    {
     "name": "stdout",
     "output_type": "stream",
     "text": [
      "True\n",
      "True\n",
      "True\n",
      "True\n"
     ]
    },
    {
     "name": "stderr",
     "output_type": "stream",
     "text": [
      "C:\\Users\\Huster2021\\AppData\\Local\\Temp\\ipykernel_74868\\4000583770.py:3: RuntimeWarning: coroutine 'async_function' was never awaited\n",
      "  print(type(async_function()) is types.CoroutineType)\n",
      "RuntimeWarning: Enable tracemalloc to get the object allocation traceback\n"
     ]
    }
   ],
   "source": [
    "print(type(function) is types.FunctionType)\n",
    "print(type(generator()) is types.GeneratorType)\n",
    "print(type(async_function()) is types.CoroutineType)\n",
    "print(type(async_generator()) is types.AsyncGeneratorType)"
   ]
  },
  {
   "cell_type": "code",
   "execution_count": 3,
   "metadata": {},
   "outputs": [
    {
     "name": "stdout",
     "output_type": "stream",
     "text": [
      "<coroutine object async_function at 0x000001877F334540>\n"
     ]
    },
    {
     "name": "stderr",
     "output_type": "stream",
     "text": [
      "C:\\Users\\Huster2021\\AppData\\Local\\Temp\\ipykernel_74868\\2846481357.py:1: RuntimeWarning: coroutine 'async_function' was never awaited\n",
      "  print(async_function())\n",
      "RuntimeWarning: Enable tracemalloc to get the object allocation traceback\n"
     ]
    }
   ],
   "source": [
    "print(async_function()) \n",
    "# <coroutine object async_function at 0x102ff67d8> 直接调用异步函数返回一个 coroutine 对象\n",
    "# 协程需要其他方式来驱动 因此可以使用该协程对象的 send 方法给协程发送一个值"
   ]
  },
  {
   "cell_type": "code",
   "execution_count": 5,
   "metadata": {},
   "outputs": [
    {
     "ename": "StopIteration",
     "evalue": "1",
     "output_type": "error",
     "traceback": [
      "\u001b[1;31m---------------------------------------------------------------------------\u001b[0m",
      "\u001b[1;31mStopIteration\u001b[0m                             Traceback (most recent call last)",
      "\u001b[1;32mh:\\work\\python\\fastapiProject\\myFastAPIVue\\backend\\tests\\pyTestStudy\\test_sample.ipynb Cell 4'\u001b[0m in \u001b[0;36m<cell line: 1>\u001b[1;34m()\u001b[0m\n\u001b[1;32m----> <a href='vscode-notebook-cell:/h%3A/work/python/fastapiProject/myFastAPIVue/backend/tests/pyTestStudy/test_sample.ipynb#ch0000003?line=0'>1</a>\u001b[0m \u001b[39mprint\u001b[39m(async_function()\u001b[39m.\u001b[39;49msend(\u001b[39mNone\u001b[39;49;00m))\n",
      "\u001b[1;31mStopIteration\u001b[0m: 1"
     ]
    }
   ],
   "source": [
    "print(async_function().send(None)) \n",
    "#如果通过上面的调用会抛出一个异常： StopIteration: 1\n",
    "# # 因为生成器/协程在正常返回退出时会抛出一个StopIteration异常，\n",
    "# 而原来的返回值会存放在StopIteration对象的value属性中，"
   ]
  },
  {
   "cell_type": "code",
   "execution_count": 8,
   "metadata": {},
   "outputs": [
    {
     "name": "stdout",
     "output_type": "stream",
     "text": [
      "1\n"
     ]
    }
   ],
   "source": [
    "# 通过以下捕获可以获取协程真正的返回值：\n",
    "try:\n",
    "    async_function().send(None)\n",
    "except StopIteration as e:\n",
    "    print(e.value)"
   ]
  },
  {
   "cell_type": "code",
   "execution_count": 9,
   "metadata": {},
   "outputs": [],
   "source": [
    "#通过上面的方式来新建一个run函数来驱动协程函数：\n",
    "def run(coroutine):\n",
    "    try:\n",
    "        coroutine.send(None)\n",
    "    except StopIteration as e:\n",
    "        return e.value"
   ]
  },
  {
   "cell_type": "code",
   "execution_count": 12,
   "metadata": {},
   "outputs": [
    {
     "name": "stdout",
     "output_type": "stream",
     "text": [
      "2\n"
     ]
    }
   ],
   "source": [
    "# 在协程函数中，可以通过await语法来挂起自身的协程，并等待另一个协程完成直到返回结果：\n",
    "# await语法只能出现在通过async修饰的函数中，否则会报SyntaxError错误。\n",
    "# 而且await后面的对象需要是一个Awaitable，或者实现了相关的协议\n",
    "async def async_function():\n",
    "    return 2\n",
    "\n",
    "async def await_coroutine():\n",
    "    result = await async_function()\n",
    "    print(result)\n",
    "\n",
    "run(await_coroutine())"
   ]
  },
  {
   "cell_type": "code",
   "execution_count": 14,
   "metadata": {},
   "outputs": [
    {
     "ename": "NameError",
     "evalue": "name 'ABCMeta' is not defined",
     "output_type": "error",
     "traceback": [
      "\u001b[1;31m---------------------------------------------------------------------------\u001b[0m",
      "\u001b[1;31mNameError\u001b[0m                                 Traceback (most recent call last)",
      "\u001b[1;32mh:\\work\\python\\fastapiProject\\myFastAPIVue\\backend\\tests\\pyTestStudy\\test_sample.ipynb Cell 8'\u001b[0m in \u001b[0;36m<cell line: 2>\u001b[1;34m()\u001b[0m\n\u001b[0;32m      <a href='vscode-notebook-cell:/h%3A/work/python/fastapiProject/myFastAPIVue/backend/tests/pyTestStudy/test_sample.ipynb#ch0000007?line=0'>1</a>\u001b[0m \u001b[39m# 查看Awaitable抽象类的代码，表明了只要一个类实现了__await__方法，那么通过它构造出来的实例就是一个Awaitable：\u001b[39;00m\n\u001b[1;32m----> <a href='vscode-notebook-cell:/h%3A/work/python/fastapiProject/myFastAPIVue/backend/tests/pyTestStudy/test_sample.ipynb#ch0000007?line=1'>2</a>\u001b[0m \u001b[39mclass\u001b[39;00m \u001b[39mAwaitable\u001b[39;00m(metaclass\u001b[39m=\u001b[39mABCMeta):\n\u001b[0;32m      <a href='vscode-notebook-cell:/h%3A/work/python/fastapiProject/myFastAPIVue/backend/tests/pyTestStudy/test_sample.ipynb#ch0000007?line=2'>3</a>\u001b[0m     \u001b[39m__slots__\u001b[39m \u001b[39m=\u001b[39m ()\n\u001b[0;32m      <a href='vscode-notebook-cell:/h%3A/work/python/fastapiProject/myFastAPIVue/backend/tests/pyTestStudy/test_sample.ipynb#ch0000007?line=4'>5</a>\u001b[0m     \u001b[39m@abstractmethod\u001b[39m\n\u001b[0;32m      <a href='vscode-notebook-cell:/h%3A/work/python/fastapiProject/myFastAPIVue/backend/tests/pyTestStudy/test_sample.ipynb#ch0000007?line=5'>6</a>\u001b[0m     \u001b[39mdef\u001b[39;00m \u001b[39m__await__\u001b[39m(\u001b[39mself\u001b[39m):\n",
      "\u001b[1;31mNameError\u001b[0m: name 'ABCMeta' is not defined"
     ]
    }
   ],
   "source": [
    "# 查看Awaitable抽象类的代码，表明了只要一个类实现了__await__方法，那么通过它构造出来的实例就是一个Awaitable：\n",
    "class Awaitable(metaclass=ABCMeta):\n",
    "    __slots__ = ()\n",
    "\n",
    "    @abstractmethod\n",
    "    def __await__(self):\n",
    "        yield\n",
    "\n",
    "    @classmethod\n",
    "    def __subclasshook__(cls, C):\n",
    "        if cls is Awaitable:\n",
    "            return _check_methods(C, \"__await__\")\n",
    "        return NotImplemented\n",
    "# 而且可以看到，Coroutine类也继承了Awaitable，而且实现了send，throw和close方法。\n",
    "# 所以await一个调用异步函数返回的协程对象是合法的。\n",
    "class Coroutine(Awaitable):\n",
    "    __slots__ = ()\n",
    "\n",
    "    @abstractmethod\n",
    "    def send(self, value):\n",
    "        ...\n",
    "\n",
    "    @abstractmethod\n",
    "    def throw(self, typ, val=None, tb=None):\n",
    "        ...\n",
    "\n",
    "    def close(self):\n",
    "        ...\n",
    "        \n",
    "    @classmethod\n",
    "    def __subclasshook__(cls, C):\n",
    "        if cls is Coroutine:\n",
    "            return _check_methods(C, '__await__', 'send', 'throw', 'close')\n",
    "        return NotImplemented"
   ]
  },
  {
   "cell_type": "code",
   "execution_count": 17,
   "metadata": {},
   "outputs": [
    {
     "name": "stdout",
     "output_type": "stream",
     "text": [
      "5\n",
      "[<__main__.Potato object at 0x000001877F1BE3A0>, <__main__.Potato object at 0x000001877F1BECD0>, <__main__.Potato object at 0x000001877F190EB0>, <__main__.Potato object at 0x000001877F190550>, <__main__.Potato object at 0x000001877F3360A0>]\n"
     ]
    }
   ],
   "source": [
    "# 一个异步生成器的例子\n",
    "# 假设要去一家超时买土豆，货架上的土豆是有限的\n",
    "class Potato:\n",
    "    # 不需要实例化，不需要 self 参数，但第一个参数需要是表示自身类的 cls 参数，\n",
    "    # 可以来调用类的属性，类的方法，实例化对象等。\n",
    "    @classmethod\n",
    "    def make(cls, num, *args, **kws):\n",
    "        potatos = []\n",
    "        for i in range(num):\n",
    "            potatos.append(cls.__new__(cls,*args,**kws))\n",
    "        return potatos\n",
    "\n",
    "all_potatoes = Potato.make(5)\n",
    "\n",
    "print(len(all_potatoes))\n",
    "print(all_potatoes)"
   ]
  },
  {
   "cell_type": "code",
   "execution_count": 19,
   "metadata": {},
   "outputs": [],
   "source": [
    "# 需求：想买 50 个土豆，每次从货架撒花姑娘拿走一个放到土豆篮子里面\n",
    "def take_potatos(num):\n",
    "    count = 0\n",
    "    while True:\n",
    "        if len(all_potatoes) == 0:\n",
    "            sleep(.1)\n",
    "        else:\n",
    "            potato = all_potatoes.pop()\n",
    "            yield potato\n",
    "            count += 1\n",
    "            if count == num:\n",
    "                break\n",
    "\n",
    "\n",
    "def buy_potato():\n",
    "    bucket = []\n",
    "    for p in take_potatos(50):\n",
    "        bucket.append(p)\n",
    "     "
   ]
  },
  {
   "cell_type": "code",
   "execution_count": 21,
   "metadata": {},
   "outputs": [],
   "source": [
    "import asyncio\n",
    "import random"
   ]
  },
  {
   "cell_type": "code",
   "execution_count": 22,
   "metadata": {},
   "outputs": [],
   "source": [
    "async def ask_for_potato():\n",
    "    await asyncio.sleep(random.random())\n",
    "    all_potatoes.extend(Potato.make(random.randint(1,10)))"
   ]
  },
  {
   "cell_type": "code",
   "execution_count": 26,
   "metadata": {},
   "outputs": [],
   "source": [
    "# 协程中这样用\n",
    "async def take_potatoes(num):\n",
    "    count = 0\n",
    "    while True:\n",
    "        if len(all_potatoes) == 0:\n",
    "            # 货架上没有土豆之后，询问超市请求更多的土豆\n",
    "            await ask_for_potato()\n",
    "        potato = all_potatoes.pop()\n",
    "        yield potato\n",
    "        count += 1\n",
    "        if count == num:\n",
    "            break"
   ]
  },
  {
   "cell_type": "code",
   "execution_count": 27,
   "metadata": {},
   "outputs": [],
   "source": [
    "async def buy_potatoes():\n",
    "    bucket = []\n",
    "    async for p in take_potatoes(50):\n",
    "        bucket.append(p)\n",
    "        print(f'Got potato {id(p)}...')"
   ]
  },
  {
   "cell_type": "code",
   "execution_count": 28,
   "metadata": {},
   "outputs": [],
   "source": [
    "async def buy_tomatoes():\n",
    "    bucket = []\n",
    "    async for p in take_potatoes(50):\n",
    "        bucket.append(p)\n",
    "        print(f'Got potato {id(p)}...')"
   ]
  },
  {
   "cell_type": "code",
   "execution_count": 29,
   "metadata": {},
   "outputs": [],
   "source": [
    "def main():\n",
    "    import asyncio\n",
    "    loop = asyncio.get_event_loop()\n",
    "    res = loop.run_until_complete(asyncio.wait([buy_potatoes(), buy_tomatoes()]))\n",
    "    loop.close()"
   ]
  },
  {
   "cell_type": "code",
   "execution_count": null,
   "metadata": {},
   "outputs": [],
   "source": []
  }
 ],
 "metadata": {
  "interpreter": {
   "hash": "07232def19f5c2531b2f114a8057b7116fa4c799df5b06cc1a4fff1053ca269d"
  },
  "kernelspec": {
   "display_name": "Python 3.8.10 ('base')",
   "language": "python",
   "name": "python3"
  },
  "language_info": {
   "codemirror_mode": {
    "name": "ipython",
    "version": 3
   },
   "file_extension": ".py",
   "mimetype": "text/x-python",
   "name": "python",
   "nbconvert_exporter": "python",
   "pygments_lexer": "ipython3",
   "version": "3.8.13"
  },
  "orig_nbformat": 4
 },
 "nbformat": 4,
 "nbformat_minor": 2
}
